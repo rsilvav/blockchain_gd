{
 "cells": [
  {
   "cell_type": "raw",
   "metadata": {
    "slideshow": {
     "slide_type": "skip"
    }
   },
   "source": [
    "# jupyter nbconvert Slides.ipynb --to slides --post serve\n",
    "# https://github.com/hakimel/reveal.js/tree/dev#slide-number\n",
    "# <br />\n",
    "#  jt -t grade3"
   ]
  },
  {
   "cell_type": "markdown",
   "metadata": {
    "slideshow": {
     "slide_type": "slide"
    }
   },
   "source": [
    "# Desarrollo de aplicación blockchain para proyectos de generación distribuida en Chile\n",
    "\n",
    "#### por René Silva V.\n",
    "\n",
    "#### Comisión: Rodrigo Palma, Cesar Azurdia, Marcelo Matus"
   ]
  },
  {
   "cell_type": "code",
   "execution_count": 3,
   "metadata": {
    "slideshow": {
     "slide_type": "skip"
    }
   },
   "outputs": [],
   "source": [
    "import json\n",
    "import web3\n",
    "import ipdb\n",
    "import os\n",
    "\n",
    "#from web3 import Web3\n",
    "from web3 import Web3, HTTPProvider\n",
    "from solc import compile_source\n",
    "from web3.contract import ConciseContract\n",
    "\n",
    "import pandas as pd\n",
    "import time\n",
    "import random\n",
    "\n",
    "import numpy as np\n",
    "\n",
    "data = pd.read_csv(\"Llaves.csv\") \n",
    "\n",
    "public_keys = data['Llave Publica']\n",
    "private_keys = data['Llave Privada']\n",
    "\n",
    "w3 = Web3(HTTPProvider(\"https://rinkeby.infura.io/v3/4c0ec7f1412a489d91e1934c66ebf5b1\"))"
   ]
  },
  {
   "cell_type": "markdown",
   "metadata": {
    "slideshow": {
     "slide_type": "slide"
    }
   },
   "source": [
    "# Agenda\n",
    "\n",
    "###     Introducción.\n",
    "###     Contextualización y marco teórico.\n",
    "###     Propuesta de ÐApp.\n",
    "###     Resultados y análisis.\n",
    "###     Conclusiones y trabajo futuro."
   ]
  },
  {
   "cell_type": "markdown",
   "metadata": {
    "slideshow": {
     "slide_type": "slide"
    }
   },
   "source": [
    "# Introducción \n",
    "\n"
   ]
  },
  {
   "cell_type": "markdown",
   "metadata": {
    "slideshow": {
     "slide_type": "subslide"
    }
   },
   "source": [
    "#### Introducción \n",
    "# Motivación"
   ]
  },
  {
   "cell_type": "markdown",
   "metadata": {
    "slideshow": {
     "slide_type": "fragment"
    }
   },
   "source": [
    "### El desarrollo de nuevas tecnologías nos han llevado a la denominada cuarta revolución industrial. "
   ]
  },
  {
   "cell_type": "markdown",
   "metadata": {
    "slideshow": {
     "slide_type": "fragment"
    }
   },
   "source": [
    "### Blockchain como método criptográfico."
   ]
  },
  {
   "cell_type": "markdown",
   "metadata": {
    "slideshow": {
     "slide_type": "fragment"
    }
   },
   "source": [
    "### Por otra parte, la industria de la energía está experimentando cambios hacia una producción y distribución de energía descarbonizada, descentralizada y digitalizada ."
   ]
  },
  {
   "cell_type": "markdown",
   "metadata": {
    "slideshow": {
     "slide_type": "skip"
    }
   },
   "source": [
    "### Sin embargo, la cantidad de trabajos existentes sobre blockchain en el sector energético es pequeña en comparación con los trabajos existentes en ambos tópicos por separado. En el caso de Chile, a la fecha, solo se tiene conocimiento de 2 aplicaciones de blockchainpara el sector energético y se desconoce la existencia de trabajos de investigación en el ámbitoacadémico. El presente trabajo busca contribuir al desarrollo de aplicaciones para el futurodel escenario energético nacional"
   ]
  },
  {
   "cell_type": "markdown",
   "metadata": {
    "slideshow": {
     "slide_type": "subslide"
    }
   },
   "source": [
    "#### Introducción \n",
    "# Alcances"
   ]
  },
  {
   "cell_type": "markdown",
   "metadata": {
    "slideshow": {
     "slide_type": "fragment"
    }
   },
   "source": [
    "### Bitcoin y Ethereum. \n"
   ]
  },
  {
   "cell_type": "markdown",
   "metadata": {
    "slideshow": {
     "slide_type": "fragment"
    }
   },
   "source": [
    "### Proyectos solares de energía distribuida. "
   ]
  },
  {
   "cell_type": "markdown",
   "metadata": {
    "slideshow": {
     "slide_type": "subslide"
    }
   },
   "source": [
    "#### Introducción \n",
    "\n",
    "# Objetivo general: \n",
    "\n",
    "### El objetivo general de esta memoria consiste en proponer y desarrollar aplicación de blockchain para el sector energético chileno, validándola técnicamente mediante una aplicación prototipo."
   ]
  },
  {
   "cell_type": "markdown",
   "metadata": {
    "slideshow": {
     "slide_type": "subslide"
    }
   },
   "source": [
    "#### Introducción \n",
    "\n",
    "# Objetivos específicos: \n",
    "\n",
    "### Revisar la literatura existente sobre aplicaciones de blockchain en el sector energético y las plataformas disponibles para su desarrollo.\n",
    "\n",
    "### Estudiar el contexto de las cooperativas eléctricas y generación distribuida en Chile, relacionándolo con las aplicaciones blockchain existentes.\n",
    "\n",
    "### Proponer aplicación blockchain para el escenario energético nacional y una plataformapara su desarrollo.\n",
    "\n",
    "### Desarrollar implementación computacional de la aplicación blockchain propuesta.\n",
    "\n",
    "### Validar técnicamente la aplicación a través de un caso de estudio de simulación y comparar sus costos con los de una alternativa centralizada."
   ]
  },
  {
   "cell_type": "markdown",
   "metadata": {
    "slideshow": {
     "slide_type": "subslide"
    }
   },
   "source": [
    "#### Introducción \n",
    "# Metodología"
   ]
  },
  {
   "cell_type": "markdown",
   "metadata": {
    "slideshow": {
     "slide_type": "fragment"
    }
   },
   "source": [
    "![title](Metodolog3.png) "
   ]
  },
  {
   "cell_type": "code",
   "execution_count": 4,
   "metadata": {
    "slideshow": {
     "slide_type": "skip"
    }
   },
   "outputs": [],
   "source": [
    "## Coops\n",
    "\n",
    "Coops_abi = open(\"./abi/Coops.json\", \"r\")\n",
    "c_values = json.load(Coops_abi)\n",
    "Coops_abi.close()\n",
    "coops = w3.eth.contract(\n",
    "    address = '0x2c66b176962911D2ce40f5809cD52C73c8E78356',\n",
    "    abi = c_values,\n",
    ")\n",
    "\n",
    "## Propietarios\n",
    "\n",
    "Propietarios_abi = open(\"./abi/Propietarios.json\", \"r\")\n",
    "o_values = json.load(Propietarios_abi)\n",
    "Propietarios_abi.close()\n",
    "propietarios = w3.eth.contract(\n",
    "    address = '0xD5fbF619121824aCB4e7aAf66A1d86947CE87f1B',\n",
    "    abi = o_values,\n",
    ")\n",
    "\n",
    "## Proveedores\n",
    "\n",
    "Proveedores_abi = open(\"./abi/Proveedores.json\", \"r\")\n",
    "v_values = json.load(Proveedores_abi)\n",
    "Proveedores_abi.close()\n",
    "proveedores = w3.eth.contract(\n",
    "    address = '0x71eCEF369c041955C9993c635144a629c82CcD86',\n",
    "    abi = v_values,\n",
    ")\n",
    "\n",
    "## Instaladores\n",
    "\n",
    "Instaladores_abi = open(\"./abi/Instaladores.json\", \"r\")\n",
    "i_values = json.load(Instaladores_abi)\n",
    "Instaladores_abi.close()\n",
    "instaladores = w3.eth.contract(\n",
    "    address = '0xC0ed1D311963EFc99418C0C84Ff2661CF199f9b0',\n",
    "    abi = i_values\n",
    ")\n",
    "\n",
    "## Gestores\n",
    "\n",
    "Gestores_abi = open(\"./abi/Gestores.json\", \"r\")\n",
    "m_values = json.load(Gestores_abi)\n",
    "Gestores_abi.close()\n",
    "gestores = w3.eth.contract(\n",
    "    address = '0x23215E9FFaE52Eaf79c861d4F620A9748f3652C1',\n",
    "    abi = m_values\n",
    ")\n",
    "\n",
    "## CF\n",
    "\n",
    "CF_abi = open(\"./abi/CF.json\", \"r\")\n",
    "cf_values = json.load(CF_abi)\n",
    "CF_abi.close()\n",
    "cf = w3.eth.contract(\n",
    "    address = '0x4Bac31B5056b1975D286d552F64F7962b8f2b2cc',\n",
    "    abi = cf_values\n",
    ")\n",
    "\n",
    "## Proyectos\n",
    "\n",
    "Proyectos_abi = open(\"./abi/Proyectos.json\", \"r\")\n",
    "p_values = json.load(Proyectos_abi)\n",
    "Proyectos_abi.close()\n",
    "proyectos = w3.eth.contract(\n",
    "    address = '0x05c24902c594c255E4d2FA9B5D8ca7c1d44A7E85',\n",
    "    abi = p_values\n",
    ")"
   ]
  },
  {
   "cell_type": "markdown",
   "metadata": {
    "slideshow": {
     "slide_type": "slide"
    }
   },
   "source": [
    "# Contextualización y marco teórico"
   ]
  },
  {
   "cell_type": "markdown",
   "metadata": {
    "slideshow": {
     "slide_type": "subslide"
    }
   },
   "source": [
    "#### Contextualización y marco teórico\n",
    "\n",
    "# Fundamentos teóricos - Redes Peer to Peer (P2P)"
   ]
  },
  {
   "cell_type": "markdown",
   "metadata": {
    "slideshow": {
     "slide_type": "fragment"
    }
   },
   "source": [
    "### Los sistemas P2P son sistemas distribuidos que consisten en nodos interconectados capaces de autoorganizarse en topologías de red con el fin de compartir recursos sin requerir la intermediacióno el soporte de un servidor o autoridad centralizada global."
   ]
  },
  {
   "cell_type": "markdown",
   "metadata": {
    "slideshow": {
     "slide_type": "fragment"
    }
   },
   "source": [
    "![title](Descentralized.png) "
   ]
  },
  {
   "cell_type": "markdown",
   "metadata": {
    "slideshow": {
     "slide_type": "skip"
    }
   },
   "source": [
    "#### Contextualización y marco teórico\n",
    "\n",
    "# Fundamentos teóricos - Redes P2P\n",
    "\n"
   ]
  },
  {
   "cell_type": "markdown",
   "metadata": {
    "slideshow": {
     "slide_type": "subslide"
    }
   },
   "source": [
    "#### Contextualización y marco teórico\n",
    "\n",
    "# Fundamentos teóricos - Criptografía"
   ]
  },
  {
   "cell_type": "markdown",
   "metadata": {
    "slideshow": {
     "slide_type": "fragment"
    }
   },
   "source": [
    "### Técnicas matemáticas utilizadas para proteger la información digital, los sistemas y los cálculos distribuidos contra ataques adversos."
   ]
  },
  {
   "cell_type": "markdown",
   "metadata": {
    "slideshow": {
     "slide_type": "fragment"
    }
   },
   "source": [
    "### Criptografía simétrica y asimétrica "
   ]
  },
  {
   "cell_type": "markdown",
   "metadata": {
    "slideshow": {
     "slide_type": "fragment"
    }
   },
   "source": [
    "![title](Criptografia.png) "
   ]
  },
  {
   "cell_type": "markdown",
   "metadata": {
    "slideshow": {
     "slide_type": "subslide"
    }
   },
   "source": [
    "#### Contextualización y marco teórico\n",
    "\n",
    "# Blockchain"
   ]
  },
  {
   "cell_type": "markdown",
   "metadata": {
    "slideshow": {
     "slide_type": "fragment"
    }
   },
   "source": [
    "### IBM define blockchain de la siguiente manera: \n",
    "#### “Un libro de cuentas digital compartido e inmutable, que registra las transacciones de una red pública o privada de pares.”"
   ]
  },
  {
   "cell_type": "markdown",
   "metadata": {
    "slideshow": {
     "slide_type": "fragment"
    }
   },
   "source": [
    "### El concepto comenzó a utilizarse gracias a las criptomonedas."
   ]
  },
  {
   "cell_type": "markdown",
   "metadata": {
    "slideshow": {
     "slide_type": "subslide"
    }
   },
   "source": [
    "#### Contextualización y marco teórico\n",
    "\n",
    "# Blockchain\n",
    "![title](Bloques_Bitcoin.png) "
   ]
  },
  {
   "cell_type": "markdown",
   "metadata": {
    "slideshow": {
     "slide_type": "subslide"
    }
   },
   "source": [
    "#### Contextualización y marco teórico\n",
    "\n",
    "# Blockchain - Algoritmos de conscenso"
   ]
  },
  {
   "cell_type": "markdown",
   "metadata": {
    "slideshow": {
     "slide_type": "fragment"
    }
   },
   "source": [
    "### Proof of Work (PoW)."
   ]
  },
  {
   "cell_type": "markdown",
   "metadata": {
    "slideshow": {
     "slide_type": "fragment"
    }
   },
   "source": [
    "### Proof of Stake (PoS)."
   ]
  },
  {
   "cell_type": "markdown",
   "metadata": {
    "slideshow": {
     "slide_type": "fragment"
    }
   },
   "source": [
    "### Otros."
   ]
  },
  {
   "cell_type": "markdown",
   "metadata": {
    "slideshow": {
     "slide_type": "subslide"
    }
   },
   "source": [
    "#### Contextualización y marco teórico\n",
    "\n",
    "# Blockchain - Ciclo de transacciones"
   ]
  },
  {
   "cell_type": "markdown",
   "metadata": {
    "slideshow": {
     "slide_type": "fragment"
    }
   },
   "source": [
    "![title](Transaccion.png) "
   ]
  },
  {
   "cell_type": "markdown",
   "metadata": {
    "slideshow": {
     "slide_type": "subslide"
    }
   },
   "source": [
    "#### Contextualización y marco teórico\n",
    "\n",
    "# Contexto internacional - Revolución blockchain"
   ]
  },
  {
   "cell_type": "markdown",
   "metadata": {
    "slideshow": {
     "slide_type": "fragment"
    }
   },
   "source": [
    "### Ya que blockchain proporciona confianza criptográfica a través de su diseño, las partes anónimas pueden realizar transacciones sin la posibilidad de hacer trampa, por lo que los intermediarios ya no serían necesarios más allá de la provisión de la plataforma técnica."
   ]
  },
  {
   "cell_type": "markdown",
   "metadata": {
    "slideshow": {
     "slide_type": "fragment"
    }
   },
   "source": [
    "### Como blockchain, junto con sus smart contracts, proporciona transparencia en el registro de transacciones, así como la imposición de reglas definidas dentro de los contratos en todas las transacciones, las verificaciones de cumplimientonormativo y legal se convierten en un requisito previo para la finalización de cualquier transacción."
   ]
  },
  {
   "cell_type": "markdown",
   "metadata": {
    "slideshow": {
     "slide_type": "fragment"
    }
   },
   "source": [
    "### La naturaleza transactiva entre pares de blockchain anima a los individuos a desempeñarroles productivos y de consumo. Los individuos ya no son consumidores pasivos, sino que son prosumidores activos (es decir, productores y consumidores). Ejemplos de estoson el intercambio entre pares y la microgeneración en el sector energético."
   ]
  },
  {
   "cell_type": "markdown",
   "metadata": {
    "slideshow": {
     "slide_type": "subslide"
    }
   },
   "source": [
    "#### Contextualización y marco teórico\n",
    "\n",
    "# Contexto internacional - Blockchain en energía"
   ]
  },
  {
   "cell_type": "markdown",
   "metadata": {
    "slideshow": {
     "slide_type": "fragment"
    }
   },
   "source": [
    "### Trading de energía descentralizado,  criptomonedas/tokens, certificación de datos, etc."
   ]
  },
  {
   "cell_type": "markdown",
   "metadata": {
    "slideshow": {
     "slide_type": "fragment"
    }
   },
   "source": [
    "### Iniciativas están siendo desarrolladas por empresas, startups e instituciones de investigación en países como Alemania, Estados Unidos,Reino Unido y Suiza, entre otros."
   ]
  },
  {
   "cell_type": "markdown",
   "metadata": {
    "slideshow": {
     "slide_type": "fragment"
    }
   },
   "source": [
    "![title](xtort.png) "
   ]
  },
  {
   "cell_type": "markdown",
   "metadata": {
    "slideshow": {
     "slide_type": "subslide"
    }
   },
   "source": [
    "#### Contextualización y marco teórico\n",
    "# Contexto nacional - Regulación"
   ]
  },
  {
   "cell_type": "markdown",
   "metadata": {
    "slideshow": {
     "slide_type": "fragment"
    }
   },
   "source": [
    "### Distribución eléctrica constituye un monopolio natural."
   ]
  },
  {
   "cell_type": "markdown",
   "metadata": {
    "slideshow": {
     "slide_type": "fragment"
    }
   },
   "source": [
    "### Clientes regulados y libres."
   ]
  },
  {
   "cell_type": "markdown",
   "metadata": {
    "slideshow": {
     "slide_type": "fragment"
    }
   },
   "source": [
    "### Zonas de concesión."
   ]
  },
  {
   "cell_type": "markdown",
   "metadata": {
    "slideshow": {
     "slide_type": "subslide"
    }
   },
   "source": [
    "#### Contextualización y marco teórico\n",
    "# Contexto nacional - Aplicaciones existentes"
   ]
  },
  {
   "cell_type": "markdown",
   "metadata": {
    "slideshow": {
     "slide_type": "fragment"
    }
   },
   "source": [
    "### Energía abierta (CNE)."
   ]
  },
  {
   "cell_type": "markdown",
   "metadata": {
    "slideshow": {
     "slide_type": "fragment"
    }
   },
   "source": [
    "### Sellosol (Phineal)."
   ]
  },
  {
   "cell_type": "code",
   "execution_count": 6,
   "metadata": {
    "slideshow": {
     "slide_type": "skip"
    }
   },
   "outputs": [],
   "source": [
    "def match(public_keys,private_keys): \n",
    "    i_interest_rate = proyectos.call().interest_rate()\n",
    "    i_demands = propietarios.call().getUserCount()\n",
    "    for i_demand in range(i_demands):\n",
    "        address_d = propietarios.call().getUserAtIndex(i_demand)\n",
    "        b_funding = propietarios.call().getFunding(address_d)\n",
    "        i_MaxPrice = propietarios.call().getDemand(address_d)\n",
    "        i_vendors = proveedores.call().getProvidersCount()\n",
    "        for i_vendor in range(i_vendors):\n",
    "            address_v = proveedores.call().getProviderAtIndex(i_vendor)\n",
    "            i_price_v = proveedores.call().getProvider(address_v)\n",
    "            i_installers = instaladores.call().getInstallersCount()\n",
    "            for i_installer in range(i_installers):\n",
    "                address_i = instaladores.call().getInstallerAtIndex(i_installer)\n",
    "                i_price_i = instaladores.call().getInstaller(address_i)\n",
    "                i_managers = gestores.call().getManagersCount()\n",
    "                for i_manager in range(i_managers): \n",
    "                    address_m = gestores.call().getManagerAtIndex(i_manager)\n",
    "                    i_price_m = gestores.call().getManager(address_m)\n",
    "\n",
    "                    i_projectcost = int((i_price_v + i_price_i + i_price_m)*(100+i_interest_rate)/100)\n",
    "                    if i_projectcost <= i_MaxPrice:\n",
    "                        if b_funding == False:\n",
    "                            print('Project Cost = '+str(i_projectcost))\n",
    "                            acct = w3.eth.account.privateKeyToAccount(private_keys[0])\n",
    "                            construct_txn = proyectos.functions.Matching(address_d,address_v,\n",
    "                                                                         address_i,address_m).buildTransaction({\n",
    "                                'from': acct.address,\n",
    "                                'nonce': w3.eth.getTransactionCount(acct.address),\n",
    "                                'gasPrice': w3.toWei('1.4', 'gwei')})\n",
    "\n",
    "                            signed = acct.signTransaction(construct_txn)\n",
    "\n",
    "                            tx_hash = w3.eth.sendRawTransaction(signed.rawTransaction)\n",
    "\n",
    "                            # Wait for the transaction to be mined, and get the transaction receipt\n",
    "                            tx_receipt = w3.eth.waitForTransactionReceipt(tx_hash)\n",
    "                            return (tx_receipt,b_funding)\n",
    "\n",
    "\n",
    "                        elif b_funding == True:\n",
    "                            print(i_projectcost)\n",
    "                            acct = w3.eth.account.privateKeyToAccount(private_keys[0])\n",
    "                            construct_txn = cf.functions.Crowdsale(address_d,address_v,address_i,\n",
    "                                                                   address_m,1).buildTransaction({\n",
    "                                'from': acct.address,\n",
    "                                'nonce': w3.eth.getTransactionCount(acct.address),\n",
    "                                'gas': 3000000,\n",
    "                                'gasPrice': w3.toWei('1.4', 'gwei')})\n",
    "\n",
    "                            signed = acct.signTransaction(construct_txn)\n",
    "                            tx_hash = w3.eth.sendRawTransaction(signed.rawTransaction)\n",
    "                            tx_receipt = w3.eth.waitForTransactionReceipt(tx_hash)\n",
    "                            \n",
    "                            return (tx_receipt,b_funding)\n",
    "                        \n",
    "    print('No match found')\n",
    "    return False\n",
    "                    \n"
   ]
  },
  {
   "cell_type": "markdown",
   "metadata": {
    "slideshow": {
     "slide_type": "slide"
    }
   },
   "source": [
    "# Propuesta de ÐApp."
   ]
  },
  {
   "cell_type": "markdown",
   "metadata": {
    "slideshow": {
     "slide_type": "fragment"
    }
   },
   "source": [
    "### La propuesta consiste en un marketplace administrado por smart contracts.\n",
    "\n"
   ]
  },
  {
   "cell_type": "markdown",
   "metadata": {
    "slideshow": {
     "slide_type": "fragment"
    }
   },
   "source": [
    "### Distintos agentes puedan asociarse para la realización de proyectos de generación distribuida. "
   ]
  },
  {
   "cell_type": "markdown",
   "metadata": {
    "slideshow": {
     "slide_type": "fragment"
    }
   },
   "source": [
    "### Esta aplicación busca cambiar la forma en que se realizan los proyectos de generación distribuida, pasando de un único agente multiespecialista involucrado a multiples agentes monoespecialistas."
   ]
  },
  {
   "cell_type": "markdown",
   "metadata": {
    "slideshow": {
     "slide_type": "subslide"
    }
   },
   "source": [
    "#### Propuesta de ÐApp\n",
    "# Supuestos"
   ]
  },
  {
   "cell_type": "markdown",
   "metadata": {
    "slideshow": {
     "slide_type": "fragment"
    }
   },
   "source": [
    "### Proyectos estandarizados."
   ]
  },
  {
   "cell_type": "markdown",
   "metadata": {
    "slideshow": {
     "slide_type": "fragment"
    }
   },
   "source": [
    "### Ofertas de los proveedores incluyen todo el hardware necesario. "
   ]
  },
  {
   "cell_type": "markdown",
   "metadata": {
    "slideshow": {
     "slide_type": "subslide"
    }
   },
   "source": [
    "#### Propuesta de ÐApp\n",
    "# Plataforma Ethereum"
   ]
  },
  {
   "cell_type": "markdown",
   "metadata": {
    "slideshow": {
     "slide_type": "fragment"
    }
   },
   "source": [
    "### Ethereum es la plataforma más utilizada para aplicaciones en el sector energético."
   ]
  },
  {
   "cell_type": "markdown",
   "metadata": {
    "slideshow": {
     "slide_type": "fragment"
    }
   },
   "source": [
    "### E.V.M: Es una única “computadora” global de 256 bits compuesta por todas las computadoras de la red Ethereum."
   ]
  },
  {
   "cell_type": "markdown",
   "metadata": {
    "slideshow": {
     "slide_type": "fragment"
    }
   },
   "source": [
    "### Mainnet y testnets."
   ]
  },
  {
   "cell_type": "markdown",
   "metadata": {
    "slideshow": {
     "slide_type": "subslide"
    }
   },
   "source": [
    "#### Propuesta de ÐApp\n",
    "# Plataforma Ethereum - Tokens"
   ]
  },
  {
   "cell_type": "markdown",
   "metadata": {
    "slideshow": {
     "slide_type": "fragment"
    }
   },
   "source": [
    "### Token llamado ether."
   ]
  },
  {
   "cell_type": "markdown",
   "metadata": {
    "slideshow": {
     "slide_type": "fragment"
    }
   },
   "source": [
    "### Tokens ERC20."
   ]
  },
  {
   "cell_type": "markdown",
   "metadata": {
    "slideshow": {
     "slide_type": "fragment"
    }
   },
   "source": [
    "### 1 Token = 1 CLP."
   ]
  },
  {
   "cell_type": "markdown",
   "metadata": {
    "slideshow": {
     "slide_type": "subslide"
    }
   },
   "source": [
    "#### Propuesta de ÐApp\n",
    "# Economía colaborativa"
   ]
  },
  {
   "cell_type": "markdown",
   "metadata": {
    "slideshow": {
     "slide_type": "fragment"
    }
   },
   "source": [
    "![title](yapete.png) "
   ]
  },
  {
   "cell_type": "markdown",
   "metadata": {
    "slideshow": {
     "slide_type": "subslide"
    }
   },
   "source": [
    "#### Propuesta de ÐApp\n",
    "# Financiamiento y pagos"
   ]
  },
  {
   "cell_type": "markdown",
   "metadata": {
    "slideshow": {
     "slide_type": "fragment"
    }
   },
   "source": [
    "### Los propietarios tienen la opción de elegir si necesitano no financiamiento para su proyecto. \n"
   ]
  },
  {
   "cell_type": "markdown",
   "metadata": {
    "slideshow": {
     "slide_type": "fragment"
    }
   },
   "source": [
    "### Para que los proyectos obtengan el financiamiento necesario se crea un smart contract de crowdfunding. "
   ]
  },
  {
   "cell_type": "markdown",
   "metadata": {
    "slideshow": {
     "slide_type": "fragment"
    }
   },
   "source": [
    "### Una vez realizado el proyecto, se registra a los propietarios con su respectiva parte del proyecto. "
   ]
  },
  {
   "cell_type": "markdown",
   "metadata": {
    "slideshow": {
     "slide_type": "subslide"
    }
   },
   "source": [
    "#### Propuesta de ÐApp\n",
    "# Visión general - Frontend"
   ]
  },
  {
   "cell_type": "markdown",
   "metadata": {
    "slideshow": {
     "slide_type": "fragment"
    }
   },
   "source": [
    "![title](Props.png) "
   ]
  },
  {
   "cell_type": "markdown",
   "metadata": {
    "slideshow": {
     "slide_type": "subslide"
    }
   },
   "source": [
    "#### Propuesta de ÐApp\n",
    "# Visión general - Backend"
   ]
  },
  {
   "cell_type": "markdown",
   "metadata": {
    "slideshow": {
     "slide_type": "fragment"
    }
   },
   "source": [
    "![title](Crellchainx.png) "
   ]
  },
  {
   "cell_type": "markdown",
   "metadata": {
    "slideshow": {
     "slide_type": "slide"
    }
   },
   "source": [
    "# Resultados y análisis."
   ]
  },
  {
   "cell_type": "markdown",
   "metadata": {
    "slideshow": {
     "slide_type": "subslide"
    }
   },
   "source": [
    "#### Resultados y análisis\n",
    "# Resultados"
   ]
  },
  {
   "cell_type": "markdown",
   "metadata": {
    "slideshow": {
     "slide_type": "fragment"
    }
   },
   "source": [
    "### bla1"
   ]
  },
  {
   "cell_type": "markdown",
   "metadata": {
    "slideshow": {
     "slide_type": "fragment"
    }
   },
   "source": [
    "### bla2"
   ]
  },
  {
   "cell_type": "markdown",
   "metadata": {
    "slideshow": {
     "slide_type": "fragment"
    }
   },
   "source": [
    "### bla3"
   ]
  },
  {
   "cell_type": "markdown",
   "metadata": {
    "slideshow": {
     "slide_type": "subslide"
    }
   },
   "source": [
    "#### Resultados y análisis\n",
    "# Análisis"
   ]
  },
  {
   "cell_type": "markdown",
   "metadata": {
    "slideshow": {
     "slide_type": "fragment"
    }
   },
   "source": [
    "### bla1"
   ]
  },
  {
   "cell_type": "markdown",
   "metadata": {
    "slideshow": {
     "slide_type": "fragment"
    }
   },
   "source": [
    "### bla2"
   ]
  },
  {
   "cell_type": "markdown",
   "metadata": {
    "slideshow": {
     "slide_type": "fragment"
    }
   },
   "source": [
    "### bla3"
   ]
  },
  {
   "cell_type": "markdown",
   "metadata": {
    "slideshow": {
     "slide_type": "slide"
    }
   },
   "source": [
    "# Conclusiones y trabajo futuro"
   ]
  },
  {
   "cell_type": "markdown",
   "metadata": {
    "slideshow": {
     "slide_type": "subslide"
    }
   },
   "source": [
    "#### Conclusiones y trabajo futuro\n",
    "# Conclusiones"
   ]
  },
  {
   "cell_type": "markdown",
   "metadata": {
    "slideshow": {
     "slide_type": "fragment"
    }
   },
   "source": [
    "### Este trabajo de título desarrolla una aplicación blockchain o ÐApp para el sector ener-gético chileno. La ÐApp desarrollada consiste en unmarketplaceque reúne a propietarios,proveedores, instaladores, gestores y financiadores en pos de la realización de proyectos GDpara la disminución de lossoft costsde estos proyectos. La aplicación además cuenta con unsistema de pagos por venta de energía generada por los proyectos.\n",
    "\n"
   ]
  },
  {
   "cell_type": "markdown",
   "metadata": {
    "slideshow": {
     "slide_type": "fragment"
    }
   },
   "source": [
    "### A partir del contexto internacional, se corroboró que existen diversas aplicaciones deblockchain para el sector eléctrico, tales como transferencia de energía P2P, aplicacionespara vehículos eléctricos y emisión de certificados en países como Alemania, Estados Unidos,Reino Unido y Suiza, entre otros."
   ]
  },
  {
   "cell_type": "markdown",
   "metadata": {
    "slideshow": {
     "slide_type": "fragment"
    }
   },
   "source": [
    "### Por otro lado, la contextualización nacional mostró que existe un escaso desarrollo de aplicaciones blockchain en energía, siendo dos las aplicaciones conocidas existentes, ambasorientadas a la certificación de datos. Con respecto a las cooperativas eléctricas, su modeloorganizacional guarda similitudes con el paradigma detrás de blockchain y lossmart contracts."
   ]
  },
  {
   "cell_type": "markdown",
   "metadata": {
    "slideshow": {
     "slide_type": "fragment"
    }
   },
   "source": [
    "### Se demostró de forma empírica que es posible el desarrollo de un sistema de economíacolaborativa basado en blockchain con opciones de financiamiento y de pago. Los costosoperacionales de la ÐApp resultaron ser órdenes de magnitud menor que el valor de losproyectos, validando a la ÐApp como una herramienta útil para mediar entre los agentesinvolucrados en proyectos de generación distribuida."
   ]
  },
  {
   "cell_type": "markdown",
   "metadata": {
    "slideshow": {
     "slide_type": "fragment"
    }
   },
   "source": [
    "### Por último, la simulación realizada muestra que la plataforma es capaz de operar co-rrectamente con un centenar de usuarios realizando proyectos con y sin financiamiento. Seobserva que los costos engasde las funciones de los agentes se mantienen por debajo delvalor máximo impuesto por la red de Ethereum y que los costos en CLP para el operador dela plataforma son menores en comparación a la alternativa centralizada en la medida que lossmart contractsestén programados de forma eficiente."
   ]
  },
  {
   "cell_type": "markdown",
   "metadata": {
    "slideshow": {
     "slide_type": "subslide"
    }
   },
   "source": [
    "#### Conclusiones y trabajo futuro\n",
    "# Trabajo futuro"
   ]
  },
  {
   "cell_type": "markdown",
   "metadata": {
    "slideshow": {
     "slide_type": "fragment"
    }
   },
   "source": [
    "### Primeramente, la plataforma escogida para el desarrollo de este trabajo fue la red deEthereum, sin embargo, existen otras plataformas blockchain para el desarrollo de ÐApps,incluyendo algunas diseñadas específicamente para el sector energía. Se propone como trabajofuturo hacer una comparativa entre las distintas plataformas existentes para la aplicacióndesarrollada. Alternativamente, se podría desarrollar una versión alternativa de la ÐAppdesarrollada en este trabajo en otra plataforma para posteriormente escoger una sobre lacual articular todo el trabajo posterior en el desarrollo de la ÐApp."
   ]
  },
  {
   "cell_type": "markdown",
   "metadata": {
    "slideshow": {
     "slide_type": "fragment"
    }
   },
   "source": [
    "### Una segunda observación es que el presente trabajo utilizó blockchain como administradorde los datos ingresados por los usuarios, obviando la procedencia de dichos datos. Si bien losdatos de oferta y demanda pueden ser ingresados por cualquier persona que participe de laplataforma, la energía generada por un proyecto debe subirse a la blockchain mediante unsmart meter. Como extensión de este trabajo se propone el desarrollo de unsmart meterquesea capaz de subir sus mediciones a la blockchain e interactuar con lossmart contractsde laÐApp desarrollada, pensando en su futura implementación."
   ]
  },
  {
   "cell_type": "markdown",
   "metadata": {
    "slideshow": {
     "slide_type": "fragment"
    }
   },
   "source": [
    "### Por otro lado, para que la aplicación desarrollada pueda operar en el mundo real, ademásde lossmart contracts, es necesario el desarrollo de una interfaz gráfica para su uso porparte de los usuarios. Una interfaz para esta plataforma debe interactuar con la blockchainde Ethereum y lossmart contracts, administrando las billeteras de los usuarios de maneraamigable y segura. El desarrollo de esta interfaz constituye la siguiente etapa en el desarrollode esta ÐApp para poder poder realizar pruebas con usuarios reales como parte de unaversión beta."
   ]
  },
  {
   "cell_type": "markdown",
   "metadata": {
    "slideshow": {
     "slide_type": "fragment"
    }
   },
   "source": [
    "### Otra mejora importante para la ÐApp desarrollada es la optimización de los códigosdesarrollados. Esta tarea es fundamental, pues un código optimizado puede reducir consi-derablemente los costos engas, tanto de los usuarios como del operador de la plataforma,mejorando la rentabilidad y competitividad de la ÐApp frente a una aplicación centralizada.Si se logra obtener bajos costos engaspara los agentes, a la vez que se les delega parte delprocesamiento realizado por la funciónmatching, el costo por proyecto para el operador dela plataforma puede disminuir hasta en un orden de magnitud."
   ]
  },
  {
   "cell_type": "markdown",
   "metadata": {},
   "source": [
    "### Y por último, pero no menos importante, se propone estudiar posibles fallas de seguridaddentro de la plataforma. Esto debido a que el carácter inmutable de la tecnología blockchainpodría resultar en que sea imposible restablecer el funcionamiento de la plataforma una vezexplotada una falla de seguridad. Un código seguro y testeado impediría la fuga indebida deactivos hacia un tercero y mantendría operativa la plataforma la mayor parte del tiempo,proporcionando los permisos adecuados a cada persona que acceda a la plataforma."
   ]
  },
  {
   "cell_type": "markdown",
   "metadata": {
    "slideshow": {
     "slide_type": "slide"
    }
   },
   "source": [
    "# Desarrollo de aplicación blockchain para proyectos de generación distribuida en Chile\n",
    "\n",
    "### por René Silva V.\n",
    "\n",
    "### Comisión: Rodrigo Palma, Cesar Azurdia, Marcelo Matus"
   ]
  }
 ],
 "metadata": {
  "celltoolbar": "Slideshow",
  "kernelspec": {
   "display_name": "Python 3",
   "language": "python",
   "name": "python3"
  },
  "language_info": {
   "codemirror_mode": {
    "name": "ipython",
    "version": 3
   },
   "file_extension": ".py",
   "mimetype": "text/x-python",
   "name": "python",
   "nbconvert_exporter": "python",
   "pygments_lexer": "ipython3",
   "version": "3.5.6"
  }
 },
 "nbformat": 4,
 "nbformat_minor": 2
}
