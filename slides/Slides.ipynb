{
 "cells": [
  {
   "cell_type": "raw",
   "metadata": {
    "slideshow": {
     "slide_type": "skip"
    }
   },
   "source": [
    "# jupyter nbconvert Slides.ipynb --to slides --post serve\n",
    "# https://github.com/hakimel/reveal.js/tree/dev#slide-number\n",
    "# <br />\n",
    "#  jt -t grade3\n",
    "# jt -t grade3 -tfs 200 -dfs 200 -ofs 200 -mathfs 200\n",
    "# https://github.com/damianavila/RISE\n",
    "# Reveal.initialize({width: '80%', height: '80%'})\n",
    "# Reveal.configure({ slideNumber: 'c/t' });\n",
    "\n",
    ".reveal .slide-number {\n",
    "  font-size: 24pt;\n",
    "  color: #ffffff; }"
   ]
  },
  {
   "cell_type": "markdown",
   "metadata": {
    "slideshow": {
     "slide_type": "slide"
    }
   },
   "source": [
    "# <center> Desarrollo de aplicación blockchain para proyectos de generación distribuida en Chile </center>\n",
    "\n",
    "<br />\n",
    "<br />\n",
    "<br />\n",
    "\n",
    "## <p style=\"text-align:center;\">René Silva V.</p>\n",
    "\n",
    "## <p style=\"text-align:center;\">Rodrigo Palma B. &ensp; &ensp; Cesar Azurdia M.&ensp; &ensp; Marcelo Matus A.&ensp; \n",
    "\n",
    "<br />\n",
    "\n",
    "###  <p style=\"text-align:center;\"> Departamento de Ingeniería Eléctrica</p> \n",
    "\n",
    "###  <p style=\"text-align:center;\">Abril 2019.</p>  "
   ]
  },
  {
   "cell_type": "markdown",
   "metadata": {
    "slideshow": {
     "slide_type": "slide"
    }
   },
   "source": [
    "# Agenda \n",
    "##   <br> &ensp;  Introducción. <br> <br>  &ensp;  Contextualización y marco teórico. <br> <br>  &ensp;  Propuesta de ÐApp. <br> <br>  &ensp;  Resultados y análisis. <br> <br> &ensp;  Conclusiones y trabajo futuro."
   ]
  },
  {
   "cell_type": "code",
   "execution_count": 1,
   "metadata": {
    "slideshow": {
     "slide_type": "skip"
    }
   },
   "outputs": [],
   "source": [
    "import json\n",
    "import web3\n",
    "import ipdb\n",
    "import os\n",
    "\n",
    "#from web3 import Web3\n",
    "from web3 import Web3, HTTPProvider\n",
    "from solc import compile_source\n",
    "from web3.contract import ConciseContract\n",
    "\n",
    "import pandas as pd\n",
    "import time\n",
    "import random\n",
    "\n",
    "import numpy as np\n",
    "\n",
    "data = pd.read_csv(\"../Llaves.csv\") \n",
    "\n",
    "public_keys = data['Llave Publica']\n",
    "private_keys = data['Llave Privada']\n",
    "\n",
    "w3 = Web3(HTTPProvider(\"https://rinkeby.infura.io/v3/4c0ec7f1412a489d91e1934c66ebf5b1\"))"
   ]
  },
  {
   "cell_type": "markdown",
   "metadata": {
    "slideshow": {
     "slide_type": "slide"
    }
   },
   "source": [
    "# Introducción "
   ]
  },
  {
   "cell_type": "markdown",
   "metadata": {
    "slideshow": {
     "slide_type": "subslide"
    }
   },
   "source": [
    "### Introducción \n",
    "# Motivación\n",
    "\n",
    "## <br> &ensp; El **desarrollo de nuevas tecnologías** nos han llevado a la denominada <br /> &ensp; **cuarta revolución industrial**.  <br> <br>  &ensp; Blockchain como método criptográfico. <br> <br> &ensp; La energía está experimentando **cambios** hacia una producción y <br /> &ensp; distribución de energía  **descarbonizada, descentralizada y digitalizada**.\n",
    "\n",
    "<br />\n",
    "\n",
    "# Alcances\n",
    "## <br> &ensp; Bitcoin y Ethereum.  <br> <br> &ensp; Proyectos solares de energía distribuida. "
   ]
  },
  {
   "cell_type": "markdown",
   "metadata": {
    "slideshow": {
     "slide_type": "skip"
    }
   },
   "source": [
    "### Sin embargo, la cantidad de trabajos existentes sobre blockchain en el sector energético es pequeña en comparación con los trabajos existentes en ambos tópicos por separado. En el caso de Chile, a la fecha, solo se tiene conocimiento de 2 aplicaciones de blockchainpara el sector energético y se desconoce la existencia de trabajos de investigación en el ámbitoacadémico. El presente trabajo busca contribuir al desarrollo de aplicaciones para el futurodel escenario energético nacional"
   ]
  },
  {
   "cell_type": "markdown",
   "metadata": {
    "slideshow": {
     "slide_type": "subslide"
    }
   },
   "source": [
    "### Introducción \n",
    "\n",
    "# Objetivo general: \n",
    "\n",
    "## <br> &ensp; El objetivo general de esta memoria consiste en **proponer y desarrollar** <br />  &ensp; aplicación de blockchain para el sector energético chileno, **validándola** <br /> &ensp; técnicamente mediante una aplicación prototipo."
   ]
  },
  {
   "cell_type": "markdown",
   "metadata": {
    "slideshow": {
     "slide_type": "subslide"
    }
   },
   "source": [
    "### Introducción \n",
    "\n",
    "# Objetivos específicos: \n",
    "\n",
    "## <br> &ensp; **Revisar la literatura** existente sobre aplicaciones de blockchain en el <br /> &ensp; sector energético y las plataformas disponibles para su desarrollo. <br> <br> &ensp; Estudiar el contexto de las cooperativas eléctricas y generación distribuida <br /> &ensp; en Chile, relacionándolo con las aplicaciones blockchain existentes. <br> <br> &ensp; Proponer aplicación blockchain para el escenario energético nacional y <br /> &ensp; una plataforma para su desarrollo. <br><br> &ensp; Desarrollar implementación computacional de la aplicación blockchain <br /> &ensp; propuesta. <br><br> &ensp; Validar técnicamente la aplicación a través de un caso de estudio de <br /> &ensp; simulación y comparar sus costos con los de una alternativa centralizada."
   ]
  },
  {
   "cell_type": "markdown",
   "metadata": {
    "slideshow": {
     "slide_type": "subslide"
    }
   },
   "source": [
    "### Introducción \n",
    "# Metodología\n",
    "\n",
    "<br />\n",
    "\n",
    "<br />\n",
    "\n",
    "<center> <img src=\"./Metodolog2.png\" width=\"1400\" height=\"700\" /> </center> \n",
    "\n",
    "##### <p style=\"text-align:center;\"> Metodología trabajo de título."
   ]
  },
  {
   "cell_type": "code",
   "execution_count": 3,
   "metadata": {
    "slideshow": {
     "slide_type": "skip"
    }
   },
   "outputs": [],
   "source": [
    "## Coops\n",
    "\n",
    "Coops_abi = open(\"../abi/Coops.json\", \"r\")\n",
    "c_values = json.load(Coops_abi)\n",
    "Coops_abi.close()\n",
    "coops = w3.eth.contract(\n",
    "    address = '0x2c66b176962911D2ce40f5809cD52C73c8E78356',\n",
    "    abi = c_values,\n",
    ")\n",
    "\n",
    "## Propietarios\n",
    "\n",
    "Propietarios_abi = open(\"../abi/Propietarios.json\", \"r\")\n",
    "o_values = json.load(Propietarios_abi)\n",
    "Propietarios_abi.close()\n",
    "propietarios = w3.eth.contract(\n",
    "    address = '0xD5fbF619121824aCB4e7aAf66A1d86947CE87f1B',\n",
    "    abi = o_values,\n",
    ")\n",
    "\n",
    "## Proveedores\n",
    "\n",
    "Proveedores_abi = open(\"../abi/Proveedores.json\", \"r\")\n",
    "v_values = json.load(Proveedores_abi)\n",
    "Proveedores_abi.close()\n",
    "proveedores = w3.eth.contract(\n",
    "    address = '0x71eCEF369c041955C9993c635144a629c82CcD86',\n",
    "    abi = v_values,\n",
    ")\n",
    "\n",
    "## Instaladores\n",
    "\n",
    "Instaladores_abi = open(\"../abi/Instaladores.json\", \"r\")\n",
    "i_values = json.load(Instaladores_abi)\n",
    "Instaladores_abi.close()\n",
    "instaladores = w3.eth.contract(\n",
    "    address = '0xC0ed1D311963EFc99418C0C84Ff2661CF199f9b0',\n",
    "    abi = i_values\n",
    ")\n",
    "\n",
    "## Gestores\n",
    "\n",
    "Gestores_abi = open(\"../abi/Gestores.json\", \"r\")\n",
    "m_values = json.load(Gestores_abi)\n",
    "Gestores_abi.close()\n",
    "gestores = w3.eth.contract(\n",
    "    address = '0x23215E9FFaE52Eaf79c861d4F620A9748f3652C1',\n",
    "    abi = m_values\n",
    ")\n",
    "\n",
    "## CF\n",
    "\n",
    "CF_abi = open(\"../abi/CF.json\", \"r\")\n",
    "cf_values = json.load(CF_abi)\n",
    "CF_abi.close()\n",
    "cf = w3.eth.contract(\n",
    "    address = '0x4Bac31B5056b1975D286d552F64F7962b8f2b2cc',\n",
    "    abi = cf_values\n",
    ")\n",
    "\n",
    "## Proyectos\n",
    "\n",
    "Proyectos_abi = open(\"../abi/Proyectos.json\", \"r\")\n",
    "p_values = json.load(Proyectos_abi)\n",
    "Proyectos_abi.close()\n",
    "proyectos = w3.eth.contract(\n",
    "    address = '0x05c24902c594c255E4d2FA9B5D8ca7c1d44A7E85',\n",
    "    abi = p_values\n",
    ")"
   ]
  },
  {
   "cell_type": "markdown",
   "metadata": {
    "slideshow": {
     "slide_type": "slide"
    }
   },
   "source": [
    "# Contextualización y marco teórico"
   ]
  },
  {
   "cell_type": "markdown",
   "metadata": {
    "slideshow": {
     "slide_type": "subslide"
    }
   },
   "source": [
    "### Contextualización y marco teórico\n",
    "\n",
    "# Fundamentos teóricos - Redes *Peer to Peer* (P2P)\n",
    "\n",
    "## <br> &ensp; Los sistemas P2P son sistemas distribuidos que consisten en nodos <br> &ensp;  interconectados capaces de autoorganizarse en topologías de red con el <br /> &ensp; fin de compartir recursos sin requerir la intermediación o el soporte de un <br /> &ensp; servidor o autoridad centralizada global.\n",
    "\n",
    "<br />\n",
    "\n",
    "<center> <img src=\"./Cenvsdes.png\" width=\"1300\" height=\"300\" /> </center> \n",
    "\n",
    "#### <center> Arquitecturas cliente servidor (izq.) y Peer to Peer (der). </center>"
   ]
  },
  {
   "cell_type": "markdown",
   "metadata": {
    "slideshow": {
     "slide_type": "subslide"
    }
   },
   "source": [
    "### Contextualización y marco teórico\n",
    "\n",
    "# Fundamentos teóricos - Criptografía\n",
    "\n",
    "## <br> &ensp; Técnicas matemáticas utilizadas para proteger la información digital, los <br /> &ensp; sistemas y los cálculos distribuidos contra ataques adversos. <br><br> &ensp; Criptografía simétrica y asimétrica. \n",
    "\n",
    "<center> <img src=\"./Criptografia.png\" width=\"1300\" height=\"300\" /> </center> \n",
    "\n",
    "#### <center> Diagrama criptografía. </center>"
   ]
  },
  {
   "cell_type": "code",
   "execution_count": 6,
   "metadata": {
    "slideshow": {
     "slide_type": "skip"
    }
   },
   "outputs": [
    {
     "data": {
      "text/html": [
       "<div>\n",
       "<style scoped>\n",
       "    .dataframe tbody tr th:only-of-type {\n",
       "        vertical-align: middle;\n",
       "    }\n",
       "\n",
       "    .dataframe tbody tr th {\n",
       "        vertical-align: top;\n",
       "    }\n",
       "\n",
       "    .dataframe thead th {\n",
       "        text-align: right;\n",
       "    }\n",
       "</style>\n",
       "<table border=\"1\" class=\"dataframe\">\n",
       "  <thead>\n",
       "    <tr style=\"text-align: right;\">\n",
       "      <th></th>\n",
       "      <th>Llave Publica</th>\n",
       "      <th>Llave Privada</th>\n",
       "    </tr>\n",
       "  </thead>\n",
       "  <tbody>\n",
       "    <tr>\n",
       "      <th>0</th>\n",
       "      <td>0xCBE861ab7726f2974289cE6b6aB7AD999D886E2F</td>\n",
       "      <td>C877631D3F413E1E1185FE9771D2DE778CF6804F9E5F9F...</td>\n",
       "    </tr>\n",
       "  </tbody>\n",
       "</table>\n",
       "</div>"
      ],
      "text/plain": [
       "                                Llave Publica  \\\n",
       "0  0xCBE861ab7726f2974289cE6b6aB7AD999D886E2F   \n",
       "\n",
       "                                       Llave Privada  \n",
       "0  C877631D3F413E1E1185FE9771D2DE778CF6804F9E5F9F...  "
      ]
     },
     "execution_count": 6,
     "metadata": {},
     "output_type": "execute_result"
    }
   ],
   "source": [
    "data.head(n=1)"
   ]
  },
  {
   "cell_type": "markdown",
   "metadata": {
    "slideshow": {
     "slide_type": "subslide"
    }
   },
   "source": [
    "### Contextualización y marco teórico\n",
    "\n",
    "# Blockchain\n",
    "\n",
    "## <br> &ensp; IBM define blockchain de la siguiente manera: \n",
    "### &ensp; &ensp; &ensp; “Un libro de cuentas digital compartido e inmutable, que registra las transacciones <br> &ensp; &ensp; &ensp; de una red pública o privada de pares.” *\n",
    "\n",
    "<br />\n",
    "\n",
    "<center> <img src=\"./Bloques_Bitcoin.png\" width=\"1000\" height=\"200\" /> </center>\n",
    "\n",
    " #### <center> Cadena de bloques </center>\n",
    "\n",
    "##### * Traducción propia de: https://developer.ibm.com/tutorials/cl-blockchain-basics-intro-bluemix-trs/\n"
   ]
  },
  {
   "cell_type": "markdown",
   "metadata": {
    "slideshow": {
     "slide_type": "skip"
    }
   },
   "source": [
    "### Contextualización y marco teórico\n",
    "\n",
    "# Blockchain - Algoritmos de conscenso\n",
    "\n",
    "### Proof of Work (PoW).\n",
    "\n",
    "### Proof of Stake (PoS).\n",
    "\n",
    "### Otros."
   ]
  },
  {
   "cell_type": "markdown",
   "metadata": {
    "slideshow": {
     "slide_type": "subslide"
    }
   },
   "source": [
    "### Contextualización y marco teórico\n",
    "\n",
    "# Blockchain - Ciclo de transacciones\n",
    "\n",
    "<br />\n",
    "\n",
    "<center> <img src=\"./Transaccion.png\" width=\"1500\" height=\"500\" /> </center>\n",
    "\n",
    "##### <center> Ciclo de transacciones. </center>"
   ]
  },
  {
   "cell_type": "markdown",
   "metadata": {
    "slideshow": {
     "slide_type": "subslide"
    }
   },
   "source": [
    "### Contextualización y marco teórico\n",
    "\n",
    "# Contexto internacional - Revolución blockchain\n",
    "\n",
    "## <br> &ensp; Las partes anónimas pueden realizar transacciones sin la posibilidad de <br /> &ensp; hacer trampa, por lo que los intermediarios ya no serían necesarios más <br /> &ensp; allá de la provisión de la plataforma técnica. <br><br> &ensp; Blockchain (*smart contracts*) proporciona transparencia en el registro de <br /> &ensp; transacciones, así como la imposición de reglas definidas dentro de los <br /> &ensp; contratos en todas las transacciones. <br><br> &ensp; La naturaleza transactiva entre pares de blockchain anima a los individuos <br /> &ensp; a desempeñar roles productivos y de consumo."
   ]
  },
  {
   "cell_type": "markdown",
   "metadata": {
    "slideshow": {
     "slide_type": "subslide"
    }
   },
   "source": [
    "### Contextualización y marco teórico\n",
    "\n",
    "# Contexto internacional - Blockchain en energía\n",
    "\n",
    "## <br> &ensp; *Trading* de energía descentralizado,  criptomonedas/tokens, certificación <br /> &ensp; de datos, etc. <br><br> &ensp; Iniciativas están siendo desarrolladas por empresas, startups e instituciones <br /> &ensp; de investigación en países como Alemania, Estados Unidos, Reino Unido  <br /> &ensp; y Suiza, entre otros. <br><br> &ensp; Plataformas como Ethereum, Hyperledger, Tendermint.\n",
    "\n"
   ]
  },
  {
   "cell_type": "markdown",
   "metadata": {
    "slideshow": {
     "slide_type": "skip"
    }
   },
   "source": [
    "![title](xtort.png) "
   ]
  },
  {
   "cell_type": "markdown",
   "metadata": {
    "slideshow": {
     "slide_type": "skip"
    }
   },
   "source": [
    "### Contextualización y marco teórico\n",
    "# Contexto nacional - Regulación\n",
    "\n",
    "## <br> &ensp; Distribución eléctrica constituye un monopolio natural. <br><br> &ensp; Clientes regulados y libres. <br><br>  &ensp; Zonas de concesión. <br><br> &ensp; Cooperativas eléctricas."
   ]
  },
  {
   "cell_type": "markdown",
   "metadata": {
    "slideshow": {
     "slide_type": "subslide"
    }
   },
   "source": [
    "### Contextualización y marco teórico\n",
    "# Contexto nacional - Aplicaciones existentes\n",
    "\n",
    "## <br> &ensp; Energía abierta (CNE). <br><br> &ensp; Sellosol (Phineal)."
   ]
  },
  {
   "cell_type": "code",
   "execution_count": 6,
   "metadata": {
    "slideshow": {
     "slide_type": "skip"
    }
   },
   "outputs": [],
   "source": [
    "def match(public_keys,private_keys): \n",
    "    i_interest_rate = proyectos.call().interest_rate()\n",
    "    i_demands = propietarios.call().getUserCount()\n",
    "    for i_demand in range(i_demands):\n",
    "        address_d = propietarios.call().getUserAtIndex(i_demand)\n",
    "        b_funding = propietarios.call().getFunding(address_d)\n",
    "        i_MaxPrice = propietarios.call().getDemand(address_d)\n",
    "        i_vendors = proveedores.call().getProvidersCount()\n",
    "        for i_vendor in range(i_vendors):\n",
    "            address_v = proveedores.call().getProviderAtIndex(i_vendor)\n",
    "            i_price_v = proveedores.call().getProvider(address_v)\n",
    "            i_installers = instaladores.call().getInstallersCount()\n",
    "            for i_installer in range(i_installers):\n",
    "                address_i = instaladores.call().getInstallerAtIndex(i_installer)\n",
    "                i_price_i = instaladores.call().getInstaller(address_i)\n",
    "                i_managers = gestores.call().getManagersCount()\n",
    "                for i_manager in range(i_managers): \n",
    "                    address_m = gestores.call().getManagerAtIndex(i_manager)\n",
    "                    i_price_m = gestores.call().getManager(address_m)\n",
    "\n",
    "                    i_projectcost = int((i_price_v + i_price_i + i_price_m)*(100+i_interest_rate)/100)\n",
    "                    if i_projectcost <= i_MaxPrice:\n",
    "                        if b_funding == False:\n",
    "                            print('Project Cost = '+str(i_projectcost))\n",
    "                            acct = w3.eth.account.privateKeyToAccount(private_keys[0])\n",
    "                            construct_txn = proyectos.functions.Matching(address_d,address_v,\n",
    "                                                                         address_i,address_m).buildTransaction({\n",
    "                                'from': acct.address,\n",
    "                                'nonce': w3.eth.getTransactionCount(acct.address),\n",
    "                                'gasPrice': w3.toWei('1.4', 'gwei')})\n",
    "\n",
    "                            signed = acct.signTransaction(construct_txn)\n",
    "\n",
    "                            tx_hash = w3.eth.sendRawTransaction(signed.rawTransaction)\n",
    "\n",
    "                            # Wait for the transaction to be mined, and get the transaction receipt\n",
    "                            tx_receipt = w3.eth.waitForTransactionReceipt(tx_hash)\n",
    "                            return (tx_receipt,b_funding)\n",
    "\n",
    "\n",
    "                        elif b_funding == True:\n",
    "                            print(i_projectcost)\n",
    "                            acct = w3.eth.account.privateKeyToAccount(private_keys[0])\n",
    "                            construct_txn = cf.functions.Crowdsale(address_d,address_v,address_i,\n",
    "                                                                   address_m,1).buildTransaction({\n",
    "                                'from': acct.address,\n",
    "                                'nonce': w3.eth.getTransactionCount(acct.address),\n",
    "                                'gas': 3000000,\n",
    "                                'gasPrice': w3.toWei('1.4', 'gwei')})\n",
    "\n",
    "                            signed = acct.signTransaction(construct_txn)\n",
    "                            tx_hash = w3.eth.sendRawTransaction(signed.rawTransaction)\n",
    "                            tx_receipt = w3.eth.waitForTransactionReceipt(tx_hash)\n",
    "                            \n",
    "                            return (tx_receipt,b_funding)\n",
    "                        \n",
    "    print('No match found')\n",
    "    return False\n",
    "                    \n"
   ]
  },
  {
   "cell_type": "markdown",
   "metadata": {
    "slideshow": {
     "slide_type": "slide"
    }
   },
   "source": [
    "# Propuesta de ÐApp."
   ]
  },
  {
   "cell_type": "markdown",
   "metadata": {
    "slideshow": {
     "slide_type": "subslide"
    }
   },
   "source": [
    "# Propuesta de ÐApp.\n",
    "\n",
    "## <br> &ensp; La propuesta consiste en un *marketplace* administrado por smart contracts. <br><br> &ensp; Distintos agentes puedan asociarse para la realización de proyectos <br /> &ensp; de generación distribuida. <br><br> &ensp; Esta aplicación busca cambiar la forma en que se realizan los proyectos <br /> &ensp; de generación distribuida, pasando de un único agente multiespecialista <br /> &ensp; involucrado a multiples agentes monoespecialistas.\n",
    "\n",
    "# Supuestos\n",
    "\n",
    "## <br> &ensp; Proyectos estandarizados. <br><br> &ensp; Ofertas de los proveedores incluyen todo el hardware necesario. \n"
   ]
  },
  {
   "cell_type": "markdown",
   "metadata": {
    "slideshow": {
     "slide_type": "subslide"
    }
   },
   "source": [
    "### Propuesta de ÐApp\n",
    "# Economía colaborativa\n",
    "\n",
    "<center> <img src=\"./Eco.png\" width=\"800\" height=\"150\" /> </center>\n",
    "\n",
    " #### <center> Economía colaborativa. </center>"
   ]
  },
  {
   "cell_type": "markdown",
   "metadata": {
    "slideshow": {
     "slide_type": "subslide"
    }
   },
   "source": [
    "### Propuesta de ÐApp\n",
    "# Visión general - *Backend*\n",
    "\n",
    "<br />\n",
    "\n",
    "<center> <img src=\"./Crellchainh.png\" width=\"1600\" height=\"150\" /> </center>\n",
    "\n",
    " #### <center> Backend ÐApp. </center>"
   ]
  },
  {
   "cell_type": "markdown",
   "metadata": {
    "slideshow": {
     "slide_type": "subslide"
    }
   },
   "source": [
    "### Propuesta de ÐApp\n",
    "# Visión general - *Frontend*\n",
    "\n",
    "<center> <img src=\"./Props.png\" width=\"750\" height=\"150\" /> </center>\n",
    "\n",
    "#### <center> Frontend ÐApp. </center>"
   ]
  },
  {
   "cell_type": "markdown",
   "metadata": {
    "slideshow": {
     "slide_type": "subslide"
    }
   },
   "source": [
    "### Propuesta de ÐApp\n",
    "# Plataforma Ethereum\n",
    "\n",
    "## <br> &ensp; Crear ÐApps (aplicaciones descentralizadas). <br><br> &ensp; Ampliamente utilizada para aplicaciones en el sector energético. &#42;  <br><br> &ensp; *Mainnet* y *testnets*.\n",
    "\n",
    "<br />\n",
    "\n",
    "<br />\n",
    "\n",
    "<br />\n",
    "\n",
    "##### * M. Andoni, V. Robu, D. Flynn, S. Abram, D. Geach, D. Jenkins, P. McCallum, andA. Peacock. “Blockchain technology in the energy sector: A systematic review of cha-llenges and opportunities”.Renewable and Sustainable Energy Reviews, 100:143 – 174,2019."
   ]
  },
  {
   "cell_type": "markdown",
   "metadata": {
    "slideshow": {
     "slide_type": "subslide"
    }
   },
   "source": [
    "### Propuesta de ÐApp\n",
    "# Plataforma Ethereum - Ethereum Virtual Machine (EVM)\n",
    "\n",
    "## <br> &ensp; E.V.M: Es una única “computadora” global de 256 bits compuesta <br /> &ensp; por todas las computadoras de la red Ethereum. <br><br> &ensp; Cuando un usuario envía una transacción, la EVM requiere un <br /> &ensp; pequeño *fee* para procesar la transacción. <br><br> &ensp; Estos costos se cotizan en una unidad llamada *gas*. "
   ]
  },
  {
   "cell_type": "markdown",
   "metadata": {
    "slideshow": {
     "slide_type": "subslide"
    }
   },
   "source": [
    "### Propuesta de ÐApp\n",
    "# Plataforma Ethereum - *Tokens*\n",
    "\n",
    "## <br> &ensp; *Token* llamado *ether*. <br><br> &ensp; *Tokens* ERC20. <br><br> &ensp; 1 *Token* = 1 CLP."
   ]
  },
  {
   "cell_type": "markdown",
   "metadata": {
    "slideshow": {
     "slide_type": "subslide"
    }
   },
   "source": [
    "### Propuesta de ÐApp\n",
    "# Financiamiento y pagos\n",
    "\n",
    "## <br> &ensp; Los propietarios tienen la opción de elegir si necesitan o no <br /> &ensp; financiamiento para su proyecto. <br><br> &ensp; Para que los proyectos obtengan el financiamiento necesario <br /> &ensp; se crea un smart contract de crowdfunding. <br><br> &ensp; Una vez realizado el proyecto, se registra a los propietarios con <br /> &ensp; su respectiva parte del proyecto. "
   ]
  },
  {
   "cell_type": "code",
   "execution_count": 1,
   "metadata": {
    "slideshow": {
     "slide_type": "skip"
    }
   },
   "outputs": [],
   "source": [
    "from IPython.display import HTML"
   ]
  },
  {
   "cell_type": "markdown",
   "metadata": {
    "slideshow": {
     "slide_type": "skip"
    }
   },
   "source": [
    "#### Propuesta de ÐApp\n",
    "# Visión general - *Frontend*"
   ]
  },
  {
   "cell_type": "code",
   "execution_count": 4,
   "metadata": {
    "slideshow": {
     "slide_type": "skip"
    }
   },
   "outputs": [
    {
     "data": {
      "text/html": [
       "<!DOCTYPE html>\n",
       "<html>\n",
       "<head>\n",
       "    <title>Prop</title>\n",
       "  <meta charset=\"utf-8\">\n",
       "  <meta name=\"viewport\" content=\"width=device-width, initial-scale=1\">\n",
       "  <link rel=\"stylesheet\" href=\"https://maxcdn.bootstrapcdn.com/bootstrap/3.4.0/css/bootstrap.min.css\">\n",
       "  <script src=\"https://ajax.googleapis.com/ajax/libs/jquery/3.3.1/jquery.min.js\"></script>\n",
       "  <script src=\"https://maxcdn.bootstrapcdn.com/bootstrap/3.4.0/js/bootstrap.min.js\"></script>\n",
       "<style>\n",
       "\n",
       "    .btn {\n",
       "    padding:1px;\n",
       "}\n",
       "\n",
       "    .form-group {\n",
       "    padding:1px;\n",
       "}\n",
       "\n",
       "    .form-inline {\n",
       "    padding:1px;\n",
       "}\n",
       "\n",
       "    .form-control {\n",
       "    padding:1px;\n",
       "}\n",
       "\n",
       ".custom {\n",
       "    width: 420px !important;\n",
       "}\n",
       "\n",
       "</style>\n",
       "\n",
       "\n",
       "</head>\n",
       "<body>\n",
       "\n",
       "<div class=\"container\" >\n",
       "  <h1>Proyecto Solar 1 kWp</h1>\n",
       "  <p>Usuario: 0xCBE861ab7726f2974289cE6b6aB7AD999D886E2F</p>\n",
       "    <p>Saldo: 1.000.000 Tokens </p>\n",
       "    <p>Deuda: 0 Tokens </p>\n",
       "</div>\n",
       "\n",
       "<div class=\"container\" >\n",
       "\n",
       "  <button type=\"button\" class=\"btn btn-primary btn-lg custom\">Nuevo Proyecto</button>\n",
       "\n",
       "    <form class=\"form-inline\">\n",
       "      <div class=\"form-group mx-sm-3 mb-2\">\n",
       "        <input type=\"text\" class=\"form-control\" id=\"1\" placeholder=\"Financiamiento\">\n",
       "      </div>\n",
       "      <div class=\"form-group mx-sm-3 mb-2\">\n",
       "        <input type=\"number\" class=\"form-control\" id=\"2\" placeholder=\"Precio Máximo\">\n",
       "      </div>\n",
       "      <button type=\"submit\" class=\"btn btn-primary mb-2\">Enviar</button>\n",
       "    </form>\n",
       "\n",
       "  <button type=\"button\" class=\"btn btn-success btn-lg custom\">Modificar Proyecto</button>\n",
       "    <form class=\"form-inline\">\n",
       "      <div class=\"form-group mx-sm-3 mb-2\">\n",
       "        <label for=\"inputPassword2\" class=\"sr-only\">Password</label>\n",
       "        <input type=\"text\" class=\"form-control\" id=\"3\" placeholder=\"Financiamiento\">\n",
       "      </div>\n",
       "    <div class=\"form-group mx-sm-3 mb-2\">\n",
       "        <label for=\"inputPassword2\" class=\"sr-only\">Password</label>\n",
       "        <input type=\"number\" class=\"form-control\" id=\"4\" placeholder=\"Precio Máximo\">\n",
       "    </div>\n",
       "      <button type=\"submit\" class=\"btn btn-success mb-2\">Enviar</button>\n",
       "    </form>\n",
       "\n",
       "\n",
       "     <button type=\"button\" class=\"btn btn-danger btn-lg custom\">Eliminar Proyecto</button>\n",
       "\n",
       "\n",
       "</div>"
      ],
      "text/plain": [
       "<IPython.core.display.HTML object>"
      ]
     },
     "execution_count": 4,
     "metadata": {},
     "output_type": "execute_result"
    }
   ],
   "source": [
    "HTML(filename=\"./prop.html\")"
   ]
  },
  {
   "cell_type": "markdown",
   "metadata": {
    "slideshow": {
     "slide_type": "slide"
    }
   },
   "source": [
    "# Resultados y análisis."
   ]
  },
  {
   "cell_type": "markdown",
   "metadata": {
    "slideshow": {
     "slide_type": "subslide"
    }
   },
   "source": [
    "### Resultados y análisis\n",
    "# Resultados - Despliegue *smart contracts*\n",
    "\n",
    "<br>\n",
    "\n",
    "## &ensp; *Testnet* de Rinkeby.\n",
    "\n",
    "<br>\n",
    "\n",
    "<head>\n",
    "<style>\n",
    "table, th, td {\n",
    "  border: 1px solid black;\n",
    "  border-collapse: collapse;\n",
    "}\n",
    "</style>\n",
    "</head>\n",
    "\n",
    "<body>\n",
    "\n",
    "<center>\n",
    "\n",
    "\n",
    "<table>\n",
    "\n",
    "  <tr>\n",
    "      <th>Contrato</th>\n",
    "      <th>Dirección</th> \n",
    "      <th>Gas</th>\n",
    "  </tr>\n",
    "  <tr>\n",
    "      <td> Token ERC20 </td> \n",
    "      <td> 0x2c66b176962911D2ce40f5809cD52C73c8E78356 </td> \n",
    "      <td> 1.456.089 </td>  \n",
    "  </tr>\n",
    "  <tr>\n",
    "      <td> Propietarios </td>\n",
    "      <td> 0xD5fbF619121824aCB4e7aAf66A1d86947CE87f1B </td> \n",
    "      <td> 623.701 </td>\n",
    "  </tr>\n",
    "  <tr>\n",
    "      <td> Proveedores </td> \n",
    "      <td> 0x71eCEF369c041955C9993c635144a629c82CcD86 </td> \n",
    "      <td> 530.951 </td>\n",
    "  <tr>\n",
    "  <tr>\n",
    "      <td> Instaladores </td>\n",
    "      <td> 0xC0ed1D311963EFc99418C0C84Ff2661CF199f9b0 </td> \n",
    "      <td> 530.159 </td>   \n",
    "  </tr> \n",
    "  <tr>  \n",
    "      <td> Gestores </td> \n",
    "      <td> 0x23215E9FFaE52Eaf79c861d4F620A9748f3652C1 </td> \n",
    "      <td> 530.759 </td>\n",
    "  </tr>\n",
    "  <tr>\n",
    "      <td> Crowdfunding </td>  \n",
    "      <td> 0x4Bac31B5056b1975D286d552F64F7962b8f2b2cc </td> \n",
    "      <td> 1.654.850 </td>\n",
    "  </tr>    \n",
    "\n",
    "  <tr>\n",
    "      <td> Proyectos </td> \n",
    "      <td> 0x05c24902c594c255E4d2FA9B5D8ca7c1d44A7E85 </td> \n",
    "      <td> 2.163.726 </td>\n",
    "  </tr>\n",
    "  <tr>\n",
    "      <td> Total </td> \n",
    "      <td> - </td>\n",
    "      <td> 7.490.235 </td>\n",
    "  </tr>\n",
    "</table>\n",
    "</center>\n",
    "</body>\n",
    "\n",
    "#### <center> Despliegue smart contracts. </center>"
   ]
  },
  {
   "cell_type": "code",
   "execution_count": 4,
   "metadata": {
    "slideshow": {
     "slide_type": "skip"
    }
   },
   "outputs": [
    {
     "data": {
      "text/html": [
       "<head>\n",
       "<style>\n",
       "table, th, td {\n",
       "  border: 1px solid black;\n",
       "  border-collapse: collapse;\n",
       "}\n",
       "</style>\n",
       "</head>\n",
       "\n",
       "<body>\n",
       "\n",
       "<table>\n",
       "\n",
       "  <tr>\n",
       "      <th>Contrato</th>\n",
       "      <th>Dirección</th> \n",
       "      <th>Gas</th>\n",
       "  </tr>\n",
       "  <tr>\n",
       "      <td> Token ERC20 </td> \n",
       "      <td> 0x2c66b176962911D2ce40f5809cD52C73c8E78356 </td> \n",
       "      <td> 1.456.089 </td>  \n",
       "  </tr>\n",
       "  <tr>\n",
       "      <td> Propietarios </td>\n",
       "      <td> 0xD5fbF619121824aCB4e7aAf66A1d86947CE87f1B </td> \n",
       "      <td> 623.701 </td>\n",
       "  </tr>\n",
       "  <tr>\n",
       "      <td> Proveedores </td> \n",
       "      <td> 0x71eCEF369c041955C9993c635144a629c82CcD86 </td> \n",
       "      <td> 530.951 </td>\n",
       "  <tr>\n",
       "  <tr>\n",
       "      <td> Instaladores </td>\n",
       "      <td> 0xC0ed1D311963EFc99418C0C84Ff2661CF199f9b0 </td> \n",
       "      <td> 530.159 </td>   \n",
       "  </tr> \n",
       "  <tr>  \n",
       "      <td> Gestores </td> \n",
       "      <td> 0x23215E9FFaE52Eaf79c861d4F620A9748f3652C1 </td> \n",
       "      <td> 530.759 </td>\n",
       "  </tr>\n",
       "  <tr>\n",
       "      <td> Crowdfunding </td>  \n",
       "      <td> 0x4Bac31B5056b1975D286d552F64F7962b8f2b2cc </td> \n",
       "      <td> 1.654.850 </td>\n",
       "  </tr>    \n",
       "\n",
       "  <tr>\n",
       "      <td> Proyectos </td> \n",
       "      <td> 0x05c24902c594c255E4d2FA9B5D8ca7c1d44A7E85 </td> \n",
       "      <td> 2.163.726 </td>\n",
       "  </tr>\n",
       "  <tr>\n",
       "      <td> Total </td> \n",
       "      <td> - </td>\n",
       "      <td> 7.490.235 </td>\n",
       "  </tr>\n",
       "</table>\n",
       "\n",
       "</body>"
      ],
      "text/plain": [
       "<IPython.core.display.HTML object>"
      ]
     },
     "execution_count": 4,
     "metadata": {},
     "output_type": "execute_result"
    }
   ],
   "source": [
    "HTML(filename=\"./tabla.html\")"
   ]
  },
  {
   "cell_type": "markdown",
   "metadata": {
    "slideshow": {
     "slide_type": "subslide"
    }
   },
   "source": [
    "### Resultados y análisis\n",
    "# Resultados - Casos base\n",
    "\n",
    "## <br> &ensp; Un proyecto con/sin financiamiento. <br><br> &ensp; Una única combinación posible para matching. <br><br> &ensp; Panel fotovoltaicos para *netbilling*:\n",
    "\n",
    "### &ensp; &ensp; Superficie: 1 m<sup>2</sup>. <br><br> &ensp; &ensp; Potencia: 1kWp. <br><br> &ensp; &ensp; Ubicación: Santiago de Chile. <br><br> &ensp; &ensp; Valor referencial: 2.190.000 CLP.\n"
   ]
  },
  {
   "cell_type": "markdown",
   "metadata": {
    "slideshow": {
     "slide_type": "subslide"
    }
   },
   "source": [
    "### Resultados y análisis\n",
    "# Resultados - Caso base 1\n",
    "\n",
    "## <br> &ensp; Sin financiamiento.\n",
    "\n",
    "<br />\n",
    "\n",
    "<head>\n",
    "<style>\n",
    "table, th, td {\n",
    "  border: 1px solid black;\n",
    "  border-collapse: collapse;\n",
    "}\n",
    "</style>\n",
    "</head>\n",
    "\n",
    "<body>\n",
    "\n",
    "<center>\n",
    "\n",
    "<table>\n",
    "\n",
    "  <tr>\n",
    "      <th>Agente</th>\n",
    "      <th>Dirección</th> \n",
    "      <th>Función</th>\n",
    "      <th>Valor</th>\n",
    "  </tr>\n",
    "  <tr>\n",
    "      <td> Propietario </td> \n",
    "      <td> 0x6C740120A054cecF209BCaCF62fC38Cc64D98499 </td> \n",
    "      <td> Nueva solicitud </td>  \n",
    "      <td> 2.000.000 </td>  \n",
    "  </tr>\n",
    "  <tr>\n",
    "      <td> Proveedor </td>\n",
    "      <td> 0x520597cF4C6f9aed321a39a12529911350c7d0BF </td> \n",
    "      <td> Nuevo proveedor </td>\n",
    "      <td> 1.000.000 </td>  \n",
    "  </tr>\n",
    "  <tr>\n",
    "      <td> Instalador </td> \n",
    "      <td> 0x6c2a6C2F7B3ABf37575a423E72d91C78F72B36E8 </td> \n",
    "      <td> Nuevo instalador </td>\n",
    "      <td> 100.000 </td>  \n",
    "  <tr>\n",
    "  <tr>\n",
    "      <td> Gestor </td>\n",
    "      <td> 0x29b93fdD9D9BE8c80d483aA94CA12496f09006C8 </td> \n",
    "      <td> Nuevo gestor </td>   \n",
    "      <td> 10.000 </td>  \n",
    "  </tr> \n",
    "  <tr>  \n",
    "      <td> Operador </td> \n",
    "      <td> 0xCBE861ab7726f2974289cE6b6aB7AD999D886E2F </td> \n",
    "      <td> Matching </td>\n",
    "      <td> 55.000 </td>  \n",
    "  </tr>    \n",
    "\n",
    "</table>\n",
    "</center>\n",
    "</body>\n",
    "\n",
    "#### <center> Operaciones caso base 1. </center>\n",
    "\n"
   ]
  },
  {
   "cell_type": "markdown",
   "metadata": {
    "slideshow": {
     "slide_type": "subslide"
    }
   },
   "source": [
    "### Resultados y análisis\n",
    "# Resultados - Caso base 1\n",
    "\n",
    "## <br> &ensp; Sin financiamiento.\n",
    "\n",
    "<br />\n",
    "\n"
   ]
  },
  {
   "cell_type": "code",
   "execution_count": 18,
   "metadata": {
    "slideshow": {
     "slide_type": "fragment"
    }
   },
   "outputs": [
    {
     "name": "stdout",
     "output_type": "stream",
     "text": [
      "Propietario: 0x6C740120A054cecF209BCaCF62fC38Cc64D98499\n",
      "Proveedor: 0x520597cF4C6f9aed321a39a12529911350c7d0BF\n",
      "Instalador: 0x6c2a6C2F7B3ABf37575a423E72d91C78F72B36E8\n",
      "Gestor: 0x29b93fdD9D9BE8c80d483aA94CA12496f09006C8\n",
      "Valor: 1165500\n"
     ]
    }
   ],
   "source": [
    "print('Propietario: ' + str(proyectos.call().getProject(0)[0]))\n",
    "print('Proveedor: ' + str(proyectos.call().getProject(0)[1]))\n",
    "print('Instalador: ' + str(proyectos.call().getProject(0)[2]))\n",
    "print('Gestor: ' + str(proyectos.call().getProject(0)[3]))\n",
    "print('Valor: ' + str(proyectos.call().getProject(0)[4]))"
   ]
  },
  {
   "cell_type": "markdown",
   "metadata": {
    "slideshow": {
     "slide_type": "subslide"
    }
   },
   "source": [
    "### Resultados y análisis\n",
    "# Resultados - Caso base 2\n",
    "\n",
    "## <br> Con financiamiento.\n",
    "\n",
    "<br />\n",
    "\n",
    "<head>\n",
    "<style>\n",
    "table, th, td {\n",
    "  border: 1px solid black;\n",
    "  border-collapse: collapse;\n",
    "}\n",
    "</style>\n",
    "</head>\n",
    "\n",
    "<body>\n",
    "\n",
    "<center>\n",
    "\n",
    "<table>\n",
    "\n",
    "  <tr>\n",
    "      <th>Agente</th>\n",
    "      <th>Dirección</th> \n",
    "      <th>Función</th>\n",
    "      <th>Valor</th>\n",
    "  </tr>\n",
    "  <tr>\n",
    "      <td> Propietario </td> \n",
    "      <td> 0x6C740120A054cecF209BCaCF62fC38Cc64D98499 </td> \n",
    "      <td> Nueva solicitud </td>  \n",
    "      <td> 2.000.000 </td>  \n",
    "  </tr>\n",
    "  <tr>\n",
    "      <td> Proveedor </td>\n",
    "      <td> 0x520597cF4C6f9aed321a39a12529911350c7d0BF </td> \n",
    "      <td> Nuevo proveedor </td>\n",
    "      <td> 1.000.000 </td>  \n",
    "  </tr>\n",
    "  <tr>\n",
    "      <td> Instalador </td> \n",
    "      <td> 0x6c2a6C2F7B3ABf37575a423E72d91C78F72B36E8 </td> \n",
    "      <td> Nuevo instalador </td>\n",
    "      <td> 100.000 </td>  \n",
    "  <tr>\n",
    "  <tr>\n",
    "      <td> Gestor </td>\n",
    "      <td> 0x29b93fdD9D9BE8c80d483aA94CA12496f09006C8 </td> \n",
    "      <td> Nuevo gestor </td>   \n",
    "      <td> 10.000 </td>  \n",
    "  </tr> \n",
    "  <tr>  \n",
    "      <td> Operador </td> \n",
    "      <td> 0xCBE861ab7726f2974289cE6b6aB7AD999D886E2F </td> \n",
    "      <td> Matching (Crowdfunding) </td>\n",
    "      <td> 55.000 </td>  \n",
    "  </tr>  \n",
    "  \n",
    "  <tr>  \n",
    "      <td> Financiador </td> \n",
    "      <td> 0xF7ab85D5391651B239873fE0Cf26B6B2f0E52358 </td> \n",
    "      <td> Financiar </td>\n",
    "      <td> 1.655.000 </td>  \n",
    "  </tr>  \n",
    "\n",
    "  <tr>  \n",
    "      <td> Beneficiario </td> \n",
    "      <td> 0x6C740120A054cecF209BCaCF62fC38Cc64D98499 </td> \n",
    "      <td> Retirar + Chequear fondos </td>\n",
    "      <td> - </td>  \n",
    "  </tr>  \n",
    "\n",
    "\n",
    "</table>\n",
    "</center>\n",
    "</body>\n",
    "\n",
    "#### <center> Operaciones caso base 2. </center>"
   ]
  },
  {
   "cell_type": "markdown",
   "metadata": {
    "slideshow": {
     "slide_type": "subslide"
    }
   },
   "source": [
    "### Resultados y análisis\n",
    "# Resultados - Caso base 2\n",
    "## <br> &ensp; Con financiamiento.\n",
    "\n",
    "<br />"
   ]
  },
  {
   "cell_type": "code",
   "execution_count": 25,
   "metadata": {
    "slideshow": {
     "slide_type": "fragment"
    }
   },
   "outputs": [
    {
     "name": "stdout",
     "output_type": "stream",
     "text": [
      "Propietario: 0x6C740120A054cecF209BCaCF62fC38Cc64D98499\n",
      "Proveedor: 0x520597cF4C6f9aed321a39a12529911350c7d0BF\n",
      "Instalador: 0x6c2a6C2F7B3ABf37575a423E72d91C78F72B36E8\n",
      "Gestor: 0x29b93fdD9D9BE8c80d483aA94CA12496f09006C8\n",
      "Valor: 1165500\n"
     ]
    }
   ],
   "source": [
    "print('Propietario: ' + str(proyectos.call().getProject(59)[0]))\n",
    "print('Proveedor: ' + str(proyectos.call().getProject(59)[1]))\n",
    "print('Instalador: ' + str(proyectos.call().getProject(59)[2]))\n",
    "print('Gestor: ' + str(proyectos.call().getProject(59)[3]))\n",
    "print('Valor: ' + str(proyectos.call().getProject(59)[4]))"
   ]
  },
  {
   "cell_type": "markdown",
   "metadata": {
    "slideshow": {
     "slide_type": "subslide"
    }
   },
   "source": [
    "### Resultados y análisis\n",
    "# Resultados - Caso base 2\n",
    "\n",
    "## <br> &ensp; Con financiamiento.\n",
    "\n",
    "<br />"
   ]
  },
  {
   "cell_type": "code",
   "execution_count": 29,
   "metadata": {
    "slideshow": {
     "slide_type": "fragment"
    }
   },
   "outputs": [
    {
     "name": "stdout",
     "output_type": "stream",
     "text": [
      "Propietario: 0x6C740120A054cecF209BCaCF62fC38Cc64D98499\n",
      "Financiadores: ['0xF7ab85D5391651B239873fE0Cf26B6B2f0E52358']\n",
      "Valor: 1165500\n"
     ]
    }
   ],
   "source": [
    "print('Propietario: ' + str(coops.call().getProject(59)[0]))\n",
    "print('Financiadores: ' + str(coops.call().getProject(59)[1]))\n",
    "print('Valor: ' + str(coops.call().getProject(59)[2]))"
   ]
  },
  {
   "cell_type": "markdown",
   "metadata": {
    "slideshow": {
     "slide_type": "subslide"
    }
   },
   "source": [
    "### Resultados y análisis\n",
    "# Simulación\n",
    "\n",
    "## <br> &ensp; Mismo proyecto que casos base. <br><br> &ensp; 100 Agentes entre propietarios, proveedores, instaladores, <br /> &ensp; gestores y financiadores. <br><br> &ensp; Cada grupo de agentes (e.g propietarios) es simulado en un <br /> &ensp; *script* distinto. <br><br> &ensp; Comportamiento aleatorio. "
   ]
  },
  {
   "cell_type": "markdown",
   "metadata": {
    "slideshow": {
     "slide_type": "subslide"
    }
   },
   "source": [
    "### Resultados y análisis\n",
    "# Simulación - Saldos\n",
    "\n",
    "<br />\n",
    "\n",
    "<center> <img src=\"./xtest2.png\" width=\"1000\" height=\"150\" /> </center>\n",
    "\n",
    "#### <center> Saldos agentes agrupados en proyecto sin financiamiento </center>"
   ]
  },
  {
   "cell_type": "markdown",
   "metadata": {
    "slideshow": {
     "slide_type": "subslide"
    }
   },
   "source": [
    "### Resultados y análisis\n",
    "# Simulación - Saldos\n",
    "\n",
    "<br />\n",
    "\n",
    "<center> <img src=\"./xtest1.png\" width=\"1000\" height=\"150\" /> </center>\n",
    "\n",
    "#### <center> Saldos de agentes en proyectos sin financiamiento </center>"
   ]
  },
  {
   "cell_type": "markdown",
   "metadata": {
    "slideshow": {
     "slide_type": "subslide"
    }
   },
   "source": [
    "### Resultados y análisis\n",
    "# Simulación - Saldos\n",
    "\n",
    "<br />\n",
    "\n",
    "<center> <img src=\"./xtestx2.png\" width=\"1100\" height=\"150\" /> </center>\n",
    "\n",
    "#### <center> Saldos de agentes agrupados en proyecto con financiamiento </center>"
   ]
  },
  {
   "cell_type": "markdown",
   "metadata": {
    "slideshow": {
     "slide_type": "subslide"
    }
   },
   "source": [
    "### Resultados y análisis\n",
    "# Simulación - Saldos\n",
    "\n",
    "<br />\n",
    "\n",
    "<center> <img src=\"./xtestx1.png\" width=\"1000\" height=\"150\" /> </center>\n",
    "\n",
    "#### <center> Saldos de agentes en proyectos con financiamiento. </center>"
   ]
  },
  {
   "cell_type": "markdown",
   "metadata": {
    "slideshow": {
     "slide_type": "subslide"
    }
   },
   "source": [
    "### Resultados y análisis\n",
    "# Escalailidad\n",
    "\n",
    "## <br> &ensp; Es tema en blockchain. <br><br> &ensp; Programación debe ser eficiente. <br><br> &ensp; *Gas limit* de Rinkeby es de 7.000.000. <br><br> &ensp; Se aumenta el tamaño del input de las funciones y se <br /> &ensp; observan los costos en *gas*."
   ]
  },
  {
   "cell_type": "markdown",
   "metadata": {
    "slideshow": {
     "slide_type": "subslide"
    }
   },
   "source": [
    "### Resultados y análisis\n",
    "# Simulación - Costos en gas\n",
    "\n",
    "<br />\n",
    "\n",
    "<body>\n",
    "\n",
    "<table>\n",
    "\n",
    "  <tr>\n",
    "      <th>Contrato</th>\n",
    "      <th>Dirección</th> \n",
    "      <th>Gas</th>\n",
    "  </tr>\n",
    "  <tr>\n",
    "      <td> Token ERC20 </td> \n",
    "      <td> 0x2c66b176962911D2ce40f5809cD52C73c8E78356 </td> \n",
    "      <td> 1.456.089 </td>  \n",
    "  </tr>\n",
    "  <tr>\n",
    "      <td> Propietarios </td>\n",
    "      <td> 0xD5fbF619121824aCB4e7aAf66A1d86947CE87f1B </td> \n",
    "      <td> 623.701 </td>\n",
    "  </tr>\n",
    "  <tr>\n",
    "      <td> Proveedores </td> \n",
    "      <td> 0x71eCEF369c041955C9993c635144a629c82CcD86 </td> \n",
    "      <td> 530.951 </td>\n",
    "  <tr>\n",
    "  <tr>\n",
    "      <td> Instaladores </td>\n",
    "      <td> 0xC0ed1D311963EFc99418C0C84Ff2661CF199f9b0 </td> \n",
    "      <td> 530.159 </td>   \n",
    "  </tr> \n",
    "  <tr>  \n",
    "      <td> Gestores </td> \n",
    "      <td> 0x23215E9FFaE52Eaf79c861d4F620A9748f3652C1 </td> \n",
    "      <td> 530.759 </td>\n",
    "  </tr>\n",
    "  <tr>\n",
    "      <td> Crowdfunding </td>  \n",
    "      <td> 0x4Bac31B5056b1975D286d552F64F7962b8f2b2cc </td> \n",
    "      <td> 1.654.850 </td>\n",
    "  </tr>    \n",
    "\n",
    "  <tr>\n",
    "      <td> Proyectos </td> \n",
    "      <td> 0x05c24902c594c255E4d2FA9B5D8ca7c1d44A7E85 </td> \n",
    "      <td> 2.163.726 </td>\n",
    "  </tr>\n",
    "  <tr>\n",
    "      <td> Total </td> \n",
    "      <td> - </td>\n",
    "      <td> 7.490.235 </td>\n",
    "  </tr>\n",
    "</table>\n",
    "\n",
    "</body>\n",
    "\n",
    "#### <center> Costos en gas smart contracts. </center>"
   ]
  },
  {
   "cell_type": "markdown",
   "metadata": {
    "slideshow": {
     "slide_type": "subslide"
    }
   },
   "source": [
    "### Resultados y análisis\n",
    "# Escalailidad - Funciones base de datos.\n",
    "\n",
    "<br />\n",
    "\n",
    "<center> <img src=\"./CRUD.png\" width=\"1000\" height=\"150\" /> </center>\n",
    "\n",
    "#### <center> Escalabilidad funciones CRUD. </center>"
   ]
  },
  {
   "cell_type": "markdown",
   "metadata": {
    "slideshow": {
     "slide_type": "skip"
    }
   },
   "source": [
    "### Resultados y análisis\n",
    "# Escalailidad - *Matching*.\n",
    "\n",
    "<br />\n",
    "\n",
    "<center> <img src=\"./XFIN.png\" width=\"1000\" height=\"150\" /> </center>\n",
    "\n",
    "#### <center> Escalabilidad función matching (financiadores &lt;= 1 ). </center>"
   ]
  },
  {
   "cell_type": "markdown",
   "metadata": {
    "slideshow": {
     "slide_type": "skip"
    }
   },
   "source": [
    "### Resultados y análisis\n",
    "# Escalailidad - *Matching*.\n",
    "\n",
    "<br />\n",
    "\n",
    "<center> <img src=\"./FIN3.png\" width=\"1000\" height=\"150\" /> </center>\n",
    "\n",
    "#### <center> Escalabilidad función matching (propietarios, proveedores, instaladores, gestores = 1). </center>"
   ]
  },
  {
   "cell_type": "markdown",
   "metadata": {
    "slideshow": {
     "slide_type": "subslide"
    }
   },
   "source": [
    "### Resultados y análisis\n",
    "# Escalailidad - Financiamiento.\n",
    "\n",
    "<br />\n",
    "\n",
    "<center> <img src=\"./PAY.png\" width=\"1000\" height=\"150\" /> </center>\n",
    "\n",
    "#### <center> Escalabilidad funciones proyecto con finaniamiento. </center>"
   ]
  },
  {
   "cell_type": "markdown",
   "metadata": {
    "slideshow": {
     "slide_type": "subslide"
    }
   },
   "source": [
    "### Resultados y análisis\n",
    "# Viabilidad\n",
    "\n",
    "## <br> &ensp; Viable técnica y legalmente. <br><br> &ensp; 120 usuarios simultáneos .\n",
    "\n",
    "<br />\n",
    "\n",
    "# Blockchain pública vs blockchain privada.\n",
    "\n",
    "## <br> &ensp; Blockchain pública ⮕ más seguro. <br><br> &ensp; Blockchain privada ⮕ menos restricciones.\n"
   ]
  },
  {
   "cell_type": "markdown",
   "metadata": {
    "slideshow": {
     "slide_type": "subslide"
    }
   },
   "source": [
    "### Resultados y análisis\n",
    "# Factores económicos\n",
    "\n",
    "## <br> &ensp; El *gas* debe pagarlo quien envía la transacción. <br><br> &ensp; El mismo emisor fija el precio (en *ether*). <br><br> &ensp; Existen valores promedio/recomendados."
   ]
  },
  {
   "cell_type": "markdown",
   "metadata": {
    "slideshow": {
     "slide_type": "subslide"
    }
   },
   "source": [
    "### Resultados y análisis\n",
    "# Factores económicos\n",
    "\n",
    "## <br> &ensp; 1 *ether* = 105.000 CLP. <br><br> &ensp; *Gas price* = 2 &#42; 10<sup>-9</sup> *ether* (2 gwei).\n",
    "\n",
    "<br />\n",
    "\n",
    "\n",
    "<body>\n",
    "\n",
    "<table>\n",
    "\n",
    "  <tr>\n",
    "      <th>Acción</th>\n",
    "      <th>Gas</th> \n",
    "      <th>Costo [CLP]</th>\n",
    "  </tr>\n",
    "  <tr>\n",
    "      <td> Desplegar smart contracts </td> \n",
    "      <td> 7.490.235 </td> \n",
    "      <td> 1.582 </td>  \n",
    "  </tr>\n",
    "  <tr>\n",
    "      <td> Nueva soliciud </td> \n",
    "      <td> 79.459,2 </td> \n",
    "      <td> 17 </td>  \n",
    "  </tr>\n",
    "  <tr>\n",
    "      <td> Nuevo proveedor </td>\n",
    "      <td> 75.544,6 </td> \n",
    "      <td> 16 </td>\n",
    "  </tr>\n",
    "  <tr>\n",
    "      <td> Nuevo instalador </td> \n",
    "      <td> 75.434,6 </td> \n",
    "      <td> 16 </td>\n",
    "  <tr>\n",
    "  <tr>\n",
    "      <td> Nuevo gestor </td>\n",
    "      <td> 75.453,4 </td> \n",
    "      <td> 16 </td>   \n",
    "  </tr> \n",
    "  <tr>  \n",
    "      <td> Matching </td> \n",
    "      <td> 819.874,4 </td> \n",
    "      <td> 173 </td>\n",
    "  </tr>\n",
    "  <tr>\n",
    "      <td> Crowdfunding </td>  \n",
    "      <td> 73.761,6 </td> \n",
    "      <td> 16 </td>\n",
    "  </tr>    \n",
    "\n",
    "  <tr>\n",
    "      <td> Financiar </td> \n",
    "      <td> 203.960 </td> \n",
    "      <td> 43 </td>\n",
    "  </tr>\n",
    "  <tr>\n",
    "      <td> Retirar fondos </td> \n",
    "      <td> 710.972 </td>\n",
    "      <td> 150 </td>\n",
    "  </tr>\n",
    "</table>\n",
    "\n",
    "</body>\n",
    "\n",
    "##### <center> Costos ÐApp. </center>"
   ]
  },
  {
   "cell_type": "markdown",
   "metadata": {
    "slideshow": {
     "slide_type": "subslide"
    }
   },
   "source": [
    "### Resultados y análisis\n",
    "# Factores económicos\n",
    "\n",
    "## <br> &ensp; 1 año. <br><br> &ensp; 100 proyectos.\n",
    "\n",
    "<br />\n",
    "\n",
    "<body>\n",
    "\n",
    "<table>\n",
    "\n",
    "  <tr>\n",
    "      <th> </th>\n",
    "      <th>ÐApp web</th> \n",
    "      <th>ÐApp móvil</th>\n",
    "      <th>App web</th>\n",
    "      <th>App web</th>      \n",
    "  </tr>\n",
    "  <tr>\n",
    "      <td> Hosting </td> \n",
    "      <td> 20.000 </td> \n",
    "      <td> - </td>  \n",
    "      <td> 40.000 </td>\n",
    "      <td> 40.000 </td>\n",
    "  </tr>\n",
    "  <tr>\n",
    "      <td> Cuota registro (Playstore) </td> \n",
    "      <td> - </td> \n",
    "      <td> 17.000 </td>  \n",
    "      <td> - </td>\n",
    "      <td> 17.000 </td>\n",
    "  </tr>\n",
    "  <tr>\n",
    "      <td> Proyectos (gas) </td>\n",
    "      <td> 18.000 </td> \n",
    "      <td> 18.000 </td>\n",
    "      <td> - </td>\n",
    "      <td> - </td>\n",
    "  </tr>\n",
    "  <tr>\n",
    "      <td> Total </td> \n",
    "      <td> 38.000 </td> \n",
    "      <td> 35.000 </td>\n",
    "      <td> 40.000 </td>\n",
    "      <td> 57.000 </td>\n",
    "  <tr>\n",
    "</table>\n",
    "\n",
    "</body>\n",
    "\n",
    "#### <center> Opción descentralizada (Ðapp) vs descentralizada (app). </center>"
   ]
  },
  {
   "cell_type": "markdown",
   "metadata": {
    "slideshow": {
     "slide_type": "slide"
    }
   },
   "source": [
    "# Conclusiones y trabajo futuro"
   ]
  },
  {
   "cell_type": "markdown",
   "metadata": {
    "slideshow": {
     "slide_type": "subslide"
    }
   },
   "source": [
    "#### Conclusiones y trabajo futuro\n",
    "# Conclusiones\n",
    "\n",
    "### <br> &ensp; La ÐApp desarrollada consiste en un marketplace que reúne a distintos agentes <br /> &ensp; en pos de la realización de proyectos GD para la disminución de soft costs. <br><br> &ensp; Existen diversas aplicaciones de blockchain para el sector eléctrico en países como <br /> &ensp; Alemania, Estados Unidos, Reino Unido y Suiza, entre otros. <br><br> &ensp; Dos aplicaciones  de blockchain + energía existentes en Chile. Modelo organizacional <br /> &ensp; de cooperativas guarda similitudes con el paradigma detrás de blockchain y los smart contracts. <br><br> &ensp; Es posible el desarrollo de un sistema de economía colaborativa basado en blockchain <br /> &ensp; con opciones de financiamiento y de pago. <br><br> &ensp; La simulación realizada muestra que la plataforma es capaz de operar correctamente con <br /> &ensp; un centenar de usuarios realizando proyectos con y sin financiamiento.\n"
   ]
  },
  {
   "cell_type": "markdown",
   "metadata": {
    "slideshow": {
     "slide_type": "subslide"
    }
   },
   "source": [
    "### Conclusiones y trabajo futuro\n",
    "# Trabajo futuro\n",
    "\n",
    "## <br> &ensp; Hacer una **comparación** entre las **distintas plataformas** existentes para la <br /> &ensp; aplicación desarrollada. <br><br> &ensp; Desarrollar hardware capaz de subir datos de generación a la blockchain <br /> &ensp; e interactuar  con los smart contracts de la ÐApp. <br><br> &ensp; Desarrollo de una interfaz amigable y segura. <br><br> &ensp; Optimización de los códigos desarrollados. <br><br> &ensp; Estudiar posibles fallas de seguridad dentro de la plataforma. "
   ]
  },
  {
   "cell_type": "markdown",
   "metadata": {
    "slideshow": {
     "slide_type": "slide"
    }
   },
   "source": [
    "# <center> Desarrollo de aplicación blockchain para proyectos de generación distribuida en Chile </center>\n",
    "\n",
    "<br />\n",
    "<br />\n",
    "<br />\n",
    "\n",
    "## <p style=\"text-align:center;\">René Silva V.</p>\n",
    "\n",
    "## <p style=\"text-align:center;\">Rodrigo Palma B. &ensp; &ensp; Cesar Azurdia M.&ensp; &ensp; Marcelo Matus A.&ensp; \n",
    "\n",
    "<br />\n",
    "\n",
    "###  <p style=\"text-align:center;\"> Departamento de Ingeniería Eléctrica</p> \n",
    "\n",
    "###  <p style=\"text-align:center;\">Abril 2019.</p>  "
   ]
  }
 ],
 "metadata": {
  "celltoolbar": "Slideshow",
  "kernelspec": {
   "display_name": "Python 3",
   "language": "python",
   "name": "python3"
  },
  "language_info": {
   "codemirror_mode": {
    "name": "ipython",
    "version": 3
   },
   "file_extension": ".py",
   "mimetype": "text/x-python",
   "name": "python",
   "nbconvert_exporter": "python",
   "pygments_lexer": "ipython3",
   "version": "3.5.6"
  }
 },
 "nbformat": 4,
 "nbformat_minor": 2
}
